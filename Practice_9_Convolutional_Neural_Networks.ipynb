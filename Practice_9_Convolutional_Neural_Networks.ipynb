{
  "nbformat": 4,
  "nbformat_minor": 0,
  "metadata": {
    "colab": {
      "name": "Practice 9: Convolutional Neural Networks.ipynb",
      "version": "0.3.2",
      "provenance": [],
      "collapsed_sections": []
    },
    "kernelspec": {
      "name": "python3",
      "display_name": "Python 3"
    }
  },
  "cells": [
    {
      "metadata": {
        "id": "UcP0RHTjWP1q",
        "colab_type": "text"
      },
      "cell_type": "markdown",
      "source": [
        "# Practice 9: Convolutional Neural Networks\n",
        "\n",
        "Use this notebook as the starting point for the Practice activities.\n",
        "\n",
        "Student Name:    **[  Put your Name Here ]**\n",
        "\n",
        "\n",
        " [Video Walkthough of Practice9.]\n",
        "\n"
      ]
    },
    {
      "metadata": {
        "id": "KmZ4LSJ7XLR9",
        "colab_type": "text"
      },
      "cell_type": "markdown",
      "source": [
        "# Section 0\n",
        "\n",
        "=== *You must run this section to set up things for any of the sections below * ===\n",
        "### Setting up Python tools\n",
        "\n",
        "\n",
        "\n",
        "We'll use three libraries for this tutorial: \n",
        "- [pandas](http://pandas.pydata.org/) : dataframes for spreadsheet-like data analysis, reading CSV files, time series\n",
        "- [numpy](http://www.numpy.org/) : for multidimensional data and linear algebra tools\n",
        "- [matplotlib](http://matplotlib.org/) : Simple plotting and graphing\n",
        "- [seaborn](http://stanford.edu/~mwaskom/software/seaborn/) : more advanced graphing\n",
        "-  [scikit-learn](https://scikit-learn.org/stable/) : provides many machine learning algorithms and tools to training and test.\n",
        "\n",
        "\n"
      ]
    },
    {
      "metadata": {
        "id": "RHAUKyWlWQ9L",
        "colab_type": "code",
        "outputId": "5c09e55f-bded-4745-807c-d551d677b854",
        "colab": {
          "base_uri": "https://localhost:8080/",
          "height": 52
        }
      },
      "cell_type": "code",
      "source": [
        "# First, we'll import pandas and numpy, two data processing libraries\n",
        "import pandas as pd\n",
        "import numpy as np\n",
        "\n",
        "# We'll also import seaborn and matplot, twp Python graphing libraries\n",
        "import seaborn as sns\n",
        "import matplotlib.pyplot as plt\n",
        "# Import the needed sklearn libraries\n",
        "from sklearn.preprocessing import MinMaxScaler, StandardScaler\n",
        "from sklearn import datasets\n",
        "from sklearn.model_selection import train_test_split\n",
        "from sklearn.neighbors import KNeighborsClassifier\n",
        "from sklearn.svm import SVC\n",
        "from sklearn.decomposition import PCA\n",
        "from sklearn.preprocessing import LabelEncoder\n",
        "\n",
        "# The Keras library provides support for neural networks and deep learning\n",
        "print (\"====== This should generate a FutureWaring on Conversion ===== ignore this warning\")\n",
        "import keras\n",
        "from keras.models import Sequential\n",
        "from keras.layers import Dense, Dropout, Activation, Lambda, Flatten, LSTM\n",
        "from keras.layers import Conv2D, MaxPooling2D\n",
        "from keras.optimizers import Adam, RMSprop\n",
        "from keras.utils import np_utils\n",
        "\n",
        "# We will turn off some warns in this notebook to make it easier to read for new students\n",
        "import warnings\n",
        "warnings.filterwarnings('ignore')"
      ],
      "execution_count": 0,
      "outputs": [
        {
          "output_type": "stream",
          "text": [
            "====== This should generate a FutureWaring on Conversion ===== ignore this warning\n"
          ],
          "name": "stdout"
        },
        {
          "output_type": "stream",
          "text": [
            "Using TensorFlow backend.\n"
          ],
          "name": "stderr"
        }
      ]
    },
    {
      "metadata": {
        "id": "mEuPVnRDdGpu",
        "colab_type": "text"
      },
      "cell_type": "markdown",
      "source": [
        "# Section 1:  Image Filters or Kernels\n",
        "\n",
        "![alt text](https://i.stack.imgur.com/9Iu89.gif)\n",
        "\n",
        "We will review how image filters, also known as kernels, are applied to an image.\n",
        "\n",
        "Review this[ visualization from Victor Powell](http://setosa.io/ev/image-kernels/)\n",
        "\n",
        "\n",
        "\n"
      ]
    },
    {
      "metadata": {
        "colab_type": "text",
        "id": "YZ1dW8lJvScd"
      },
      "cell_type": "markdown",
      "source": [
        "## Task 1: Apply Image Filter\n",
        "\n",
        "Make a copy of this [CIS 3115 Vision Filter Google sheet](https://docs.google.com/spreadsheets/d/1Ku-6gWUVZcVsmrdL8b1C5RMWwyvzOWXIck07D7XKApM/edit?usp=sharing). \n",
        "\n",
        "We will manually apply two filters to a sample image. \n",
        "\n",
        "*Note: you do not have to complete the full image,  but do enought to demonstrate that you know how to apply kernels.*\n",
        "\n"
      ]
    },
    {
      "metadata": {
        "id": "6qhZo0Q9IXUc",
        "colab_type": "text"
      },
      "cell_type": "markdown",
      "source": [
        "# Section 2: CNN for Kaggle Digit Recognition Challenge\n",
        "\n",
        "We will apply Convolutional Neural Networks (CNNs) to the Kaggle Digit Challenge.\n",
        "\n",
        "First, we will read in the digit images from Kaggle."
      ]
    },
    {
      "metadata": {
        "colab_type": "code",
        "outputId": "7a01959f-bfad-46e0-d9fb-dad0e6ca35ce",
        "id": "Z_gd5XuZvScg",
        "colab": {
          "base_uri": "https://localhost:8080/",
          "height": 52
        }
      },
      "cell_type": "code",
      "source": [
        "# Read data from the actual Kaggle download files stored in a raw file in GitHub\n",
        "url_kaggle_train = 'https://raw.githubusercontent.com/CIS3115-Machine-Learning-Scholastica/CIS3115ML-Units7and8/master/kaggle-digit-recognizer/train.csv'\n",
        "url_kaggle_test = 'https://raw.githubusercontent.com/CIS3115-Machine-Learning-Scholastica/CIS3115ML-Units7and8/master/kaggle-digit-recognizer/test.csv'\n",
        "  \n",
        "train_kaggle = pd.read_csv(url_kaggle_train)\n",
        "# Pull out the labels or output which are saved in first index\n",
        "y_train_kaggle = train_kaggle.iloc[:,0].values.astype('int32')\n",
        "# Convert remaining values to floats\n",
        "X_train_kaggle = (train_kaggle.iloc[:,1:].values).astype('float32')\n",
        "# Read the kaggle test data which is used for submissions\n",
        "X_submit_kaggle = (pd.read_csv(url_kaggle_test).values).astype('float32')\n",
        "#reshape as 28x28 pixel images\n",
        "X_train_kaggle = X_train_kaggle.reshape(X_train_kaggle.shape[0], 28, 28)\n",
        "X_submit_kaggle = X_submit_kaggle.reshape(X_submit_kaggle.shape[0], 28, 28)\n",
        "\n",
        "print (\"X_train_kaggle training data shape of 28x28 pixels greyscale: \" ,X_train_kaggle.shape)\n",
        "print (\"X_submit_kaggle submission data shape of 28x28 pixels greyscale: : \" ,X_submit_kaggle.shape)"
      ],
      "execution_count": 0,
      "outputs": [
        {
          "output_type": "stream",
          "text": [
            "X_train_kaggle training data shape of 28x28 pixels greyscale:  (42000, 28, 28)\n",
            "X_submit_kaggle submission data shape of 28x28 pixels greyscale: :  (28000, 28, 28)\n"
          ],
          "name": "stdout"
        }
      ]
    },
    {
      "metadata": {
        "colab_type": "text",
        "id": "azNaomGavScs"
      },
      "cell_type": "markdown",
      "source": [
        "## Set up the data\n",
        "\n",
        "**Scale Data:** Neural Networks work best with the inputs are between 0 and +1, but the grayscale images have pixel values between 0 and 255. So, each pixel value is divided by 255 to scale it.\n",
        "\n",
        "**Reformatting: **Above we reformatted the data into 28x28 pixel arrays so we could display it. Now we are converting it back to a single list of 784 pixels. ( 28 x 28 = 784)\n",
        "\n",
        "**Split the Data:** The training data is split with 90% used for training and 10% used for testing.\n",
        "\n",
        "**One-Hot Encoding:** A one-hot encoding is a list which is 0 in most positions, and 1 in a single positions.  In this case, the nth digit will be represented as a vector which is 1 in the nth dimension.\n",
        "\n",
        "- For example, 3 would be [0,0,0,1,0,0,0,0,0,0]"
      ]
    },
    {
      "metadata": {
        "colab_type": "code",
        "id": "eIQ8a0whvScx",
        "outputId": "20e955d3-19c4-40dd-8299-19577fcd300a",
        "colab": {
          "base_uri": "https://localhost:8080/",
          "height": 88
        }
      },
      "cell_type": "code",
      "source": [
        "\n",
        "input_Size = 28 * 28    # images are 28 x 28 pixels or 784 pixels\n",
        "output_Size = 10\n",
        "\n",
        "# Normalize the data so values are between 0 and 1 instead of between 0 and 255\n",
        "X_train_kaggle = X_train_kaggle / 255\n",
        "X_submit_kaggle = X_submit_kaggle / 255\n",
        "\n",
        "#reshape for dense-only inputs\n",
        "train_size = X_train_kaggle.shape[0]\n",
        "submit_size = X_submit_kaggle.shape[0]\n",
        "X_train_kaggle = X_train_kaggle.reshape(train_size, 28, 28, 1)\n",
        "X_submit_kaggle = X_submit_kaggle.reshape(submit_size, 28, 28, 1)\n",
        "\n",
        "# Split the data into 80% for training and 10% for testing out the models\n",
        "X_train, X_test, y_train_num, y_test_num = train_test_split(X_train_kaggle, y_train_kaggle, test_size=0.1)\n",
        "\n",
        "# A one-hot encoding is a list which is 0 in most positions, and 1 in a single positions. \n",
        "# In this case, the nth digit will be represented as a vector which is 1 in the nth dimension.\n",
        "# For example, 3 would be [0,0,0,1,0,0,0,0,0,0].\n",
        "y_train = np_utils.to_categorical(y_train_num, output_Size)\n",
        "y_test = np_utils.to_categorical(y_test_num, output_Size)\n",
        "\n",
        "print (\"X_train training data shape of 28x28 pixels greyscale: \" ,X_train.shape)\n",
        "print (\"X_test submission data shape of 28x28 pixels greyscale: : \" ,X_test.shape)\n",
        "\n",
        "print (\"y_train training data shape of 28x28 pixels greyscale: \" ,y_train.shape)\n",
        "print (\"y_test submission data shape of 28x28 pixels greyscale: : \" ,y_test.shape)"
      ],
      "execution_count": 0,
      "outputs": [
        {
          "output_type": "stream",
          "text": [
            "X_train training data shape of 28x28 pixels greyscale:  (37800, 28, 28, 1)\n",
            "X_test submission data shape of 28x28 pixels greyscale: :  (4200, 28, 28, 1)\n",
            "y_train training data shape of 28x28 pixels greyscale:  (37800, 10)\n",
            "y_test submission data shape of 28x28 pixels greyscale: :  (4200, 10)\n"
          ],
          "name": "stdout"
        }
      ]
    },
    {
      "metadata": {
        "id": "qaV6VT-66iAf",
        "colab_type": "text"
      },
      "cell_type": "markdown",
      "source": [
        "## Task 2: CNN Layers\n",
        "\n",
        "For an overview of CNNs, see [MIT 6.S191: Convolutional Neural Networks](https://youtu.be/H-HVZJ7kGI0?t=1132). While the entire video is good, the key description of CNN layers start at 19:00.\n",
        "\n",
        "We will use the following Keras pre-built layers to build our CNN.\n",
        "\n",
        "- **Conv2D**(16, (3, 3), activation='relu')\n",
        " - 16 filters, each one 3x3 pixels with default stride of 1\n",
        "- **MaxPooling2D**(pool_size=(2, 2))\n",
        " - 2x2 max pooling filter with default stride of 2\n",
        "- **Dropout**(0.25)\n",
        " - Randomly ignore 25% of the weights\n",
        "- **Flatten**()\n",
        " - Convert a 2D layer into a 1D layer\n",
        "- **Dense**(32, activation='relu')\n",
        " - Standard fully connected layer we have used before\n",
        "\n",
        "One possibly configuration would be:\n",
        "\n",
        "```\n",
        "NN = Sequential()\n",
        "NN.add(Conv2D(8, kernel_size=(3, 3), activation='relu', input_shape=(28,28,1)))\n",
        "NN.add(Conv2D(8, (3, 3), activation='relu'))\n",
        "NN.add(MaxPooling2D(pool_size=(2, 2)))\n",
        "NN.add(Conv2D(16, (3, 3), activation='relu'))\n",
        "NN.add(Flatten())\n",
        "NN.add(Dense(32, activation='relu'))\n",
        "NN.add(Dense(output_Size, activation='softmax'))\n",
        "```\n",
        "\n",
        "Describe what changes to the CNN layers you will make. Options include:\n",
        "\n",
        "1.   Adding more or less filters in in Conv2D layer. The first parameter is the number of filters at that level.\n",
        "2.   Add more Conv2D layers. It is common to stack two to four layers together.\n",
        "3.   Consider trying larger or smaller filters. While 3x3 pixel filters are common, filters range from 1x1 to 7x7.\n",
        "4.   Try more MaxPooling2D layers\n",
        "5.   Add some DropOut layers to combat over fitting\n",
        "\n",
        "\n",
        "*Note: You should not change the input or output layers, they are fixed by our problem definition*\n"
      ]
    },
    {
      "metadata": {
        "colab_type": "code",
        "id": "M1H9GVNvvSdM",
        "outputId": "b3cee5e4-c07a-4f7a-e7ba-a4067b790927",
        "colab": {
          "base_uri": "https://localhost:8080/",
          "height": 481
        }
      },
      "cell_type": "code",
      "source": [
        "# Set up the Neural Network\n",
        "input_Size = 28 * 28    # images are 28 x 28 pixels or 784 pixels\n",
        "output_Size = 10\n",
        "\n",
        "NN = Sequential()\n",
        "NN.add(Conv2D(8, kernel_size=(3, 3), activation='relu', input_shape=(28,28,1)))\n",
        "NN.add(Conv2D(8, (3, 3), activation='relu'))\n",
        "NN.add(MaxPooling2D(pool_size=(2, 2)))\n",
        "#NN.add(Dropout(0.25))\n",
        "NN.add(Conv2D(16, (3, 3), activation='relu'))\n",
        "NN.add(Flatten())\n",
        "NN.add(Dense(32, activation='relu'))\n",
        "NN.add(Dense(output_Size, activation='softmax'))\n",
        "print (\"Neural Network Model created\")\n",
        "NN.summary()\n",
        "\n",
        "# Compile neural network model\n",
        "NN.compile(optimizer='adam', loss='categorical_crossentropy', metrics=['accuracy'])"
      ],
      "execution_count": 0,
      "outputs": [
        {
          "output_type": "stream",
          "text": [
            "WARNING:tensorflow:From /usr/local/lib/python3.6/dist-packages/tensorflow/python/framework/op_def_library.py:263: colocate_with (from tensorflow.python.framework.ops) is deprecated and will be removed in a future version.\n",
            "Instructions for updating:\n",
            "Colocations handled automatically by placer.\n",
            "Neural Network Model created\n",
            "_________________________________________________________________\n",
            "Layer (type)                 Output Shape              Param #   \n",
            "=================================================================\n",
            "conv2d_1 (Conv2D)            (None, 26, 26, 8)         80        \n",
            "_________________________________________________________________\n",
            "conv2d_2 (Conv2D)            (None, 24, 24, 8)         584       \n",
            "_________________________________________________________________\n",
            "max_pooling2d_1 (MaxPooling2 (None, 12, 12, 8)         0         \n",
            "_________________________________________________________________\n",
            "conv2d_3 (Conv2D)            (None, 10, 10, 16)        1168      \n",
            "_________________________________________________________________\n",
            "flatten_1 (Flatten)          (None, 1600)              0         \n",
            "_________________________________________________________________\n",
            "dense_1 (Dense)              (None, 32)                51232     \n",
            "_________________________________________________________________\n",
            "dense_2 (Dense)              (None, 10)                330       \n",
            "=================================================================\n",
            "Total params: 53,394\n",
            "Trainable params: 53,394\n",
            "Non-trainable params: 0\n",
            "_________________________________________________________________\n"
          ],
          "name": "stdout"
        }
      ]
    },
    {
      "metadata": {
        "id": "U-k7Y9H-2wUr",
        "colab_type": "code",
        "colab": {}
      },
      "cell_type": "code",
      "source": [
        "from keras.callbacks import ReduceLROnPlateau, EarlyStopping, ModelCheckpoint\n",
        "\n",
        "learning_rate_reduction = ReduceLROnPlateau(monitor='val_loss', \n",
        "                                            patience=5, \n",
        "                                            verbose=2, \n",
        "                                            factor=0.5,                                            \n",
        "                                            min_lr=0.000001)\n",
        "\n",
        "early_stops = EarlyStopping(monitor='val_loss', \n",
        "                            min_delta=0, \n",
        "                            patience=20, \n",
        "                            verbose=2, \n",
        "                            mode='auto')\n",
        "\n",
        "checkpointer = ModelCheckpoint(filepath = 'cis3115_MNIST.{epoch:02d}-{accuracy:.6f}.hdf5',\n",
        "                               verbose=2,\n",
        "                               save_best_only=True, \n",
        "                               save_weights_only = True)\n"
      ],
      "execution_count": 0,
      "outputs": []
    },
    {
      "metadata": {
        "colab_type": "text",
        "id": "LT2ZSVeXvSdo"
      },
      "cell_type": "markdown",
      "source": [
        "## Train the Neural Network\n",
        "\n",
        "This will run all 37800 training images through the network and update the weights. \n",
        "\n",
        "- epochs = 10 means to run the training 10 times. \n",
        "- Performance measues:\n",
        " - loss: is a measurement of how far the outputs are from the desired outputs. This should get smaller over time.\n",
        " - acc: is the prediction accuracy as a percent so 0.67 means the model predicts the correct flower 67% of the time. \n",
        " - val_loss: the loss calculated using the testing flowers rather than the training flowers.\n",
        " - val_acc: the accuracy calculated using the testing flowers rather than the training flowers.\n",
        " \n",
        " \n",
        "### Note: This is a large data set and training will be slow. This might take a couple of minutes to run. \n",
        "\n",
        "This is why we are only using 10 epochs initially"
      ]
    },
    {
      "metadata": {
        "colab_type": "code",
        "outputId": "93a1c996-d7f1-4464-b208-8dc1b2b6d0fe",
        "id": "pMeiCJoZvSd6",
        "colab": {
          "base_uri": "https://localhost:8080/",
          "height": 499
        }
      },
      "cell_type": "code",
      "source": [
        "# Fit model on training data for network with dense input layer\n",
        "\n",
        "history = NN.fit(X_train, y_train,\n",
        "          epochs=10,\n",
        "          verbose=1,\n",
        "          callbacks=[learning_rate_reduction, early_stops],\n",
        "          validation_data=(X_test, y_test))\n",
        "\n"
      ],
      "execution_count": 0,
      "outputs": [
        {
          "output_type": "stream",
          "text": [
            "WARNING:tensorflow:From /usr/local/lib/python3.6/dist-packages/tensorflow/python/ops/math_ops.py:3066: to_int32 (from tensorflow.python.ops.math_ops) is deprecated and will be removed in a future version.\n",
            "Instructions for updating:\n",
            "Use tf.cast instead.\n",
            "Train on 37800 samples, validate on 4200 samples\n",
            "Epoch 1/10\n",
            "37800/37800 [==============================] - 29s 779us/step - loss: 0.2349 - acc: 0.9275 - val_loss: 0.0946 - val_acc: 0.9702\n",
            "Epoch 2/10\n",
            "37800/37800 [==============================] - 29s 756us/step - loss: 0.0798 - acc: 0.9759 - val_loss: 0.0912 - val_acc: 0.9667\n",
            "Epoch 3/10\n",
            "37800/37800 [==============================] - 29s 758us/step - loss: 0.0553 - acc: 0.9824 - val_loss: 0.0719 - val_acc: 0.9786\n",
            "Epoch 4/10\n",
            "37800/37800 [==============================] - 29s 769us/step - loss: 0.0422 - acc: 0.9866 - val_loss: 0.0598 - val_acc: 0.9819\n",
            "Epoch 5/10\n",
            "37800/37800 [==============================] - 29s 764us/step - loss: 0.0350 - acc: 0.9887 - val_loss: 0.0561 - val_acc: 0.9845\n",
            "Epoch 6/10\n",
            "37800/37800 [==============================] - 29s 759us/step - loss: 0.0285 - acc: 0.9912 - val_loss: 0.0639 - val_acc: 0.9817\n",
            "Epoch 7/10\n",
            "37800/37800 [==============================] - 29s 754us/step - loss: 0.0220 - acc: 0.9931 - val_loss: 0.0645 - val_acc: 0.9821\n",
            "Epoch 8/10\n",
            "37800/37800 [==============================] - 28s 750us/step - loss: 0.0201 - acc: 0.9936 - val_loss: 0.0598 - val_acc: 0.9845\n",
            "Epoch 9/10\n",
            "37800/37800 [==============================] - 28s 754us/step - loss: 0.0160 - acc: 0.9949 - val_loss: 0.0616 - val_acc: 0.9852\n",
            "Epoch 10/10\n",
            "37800/37800 [==============================] - 28s 752us/step - loss: 0.0144 - acc: 0.9951 - val_loss: 0.0782 - val_acc: 0.9826\n",
            "\n",
            "Epoch 00010: ReduceLROnPlateau reducing learning rate to 0.0005000000237487257.\n"
          ],
          "name": "stdout"
        }
      ]
    },
    {
      "metadata": {
        "colab_type": "code",
        "id": "J_2GLi6avSeF",
        "colab": {}
      },
      "cell_type": "code",
      "source": [
        ""
      ],
      "execution_count": 0,
      "outputs": []
    },
    {
      "metadata": {
        "colab_type": "text",
        "id": "KJiV__LbvSeO"
      },
      "cell_type": "markdown",
      "source": [
        "## Plot the Training History\n",
        "\n",
        "We store the performance during training is a variable named 'history'. The x-axis is the training time or number of epochs.\n",
        "\n",
        "- Accuracy: Accuracy of the predictions, hopefully this is increasing to near 1.0\n",
        "- Loss: How close the output is to the desired output, this should decrease to near 0.0"
      ]
    },
    {
      "metadata": {
        "colab_type": "code",
        "outputId": "8b3904f7-58cf-4a29-8ce0-c12ecb99f408",
        "id": "Y965DSk5vSeJ",
        "colab": {
          "base_uri": "https://localhost:8080/",
          "height": 433
        }
      },
      "cell_type": "code",
      "source": [
        "# 10. Evaluate model on test data\n",
        "print (\"Running final scoring on test data\")\n",
        "score = NN.evaluate(X_test, y_test, verbose=1)\n",
        "print (\"The accuracy for this model is \", format(score[1], \",.2f\"))\n",
        "\n",
        "# Plot the loss and accuracy curves for training and validation \n",
        "fig, ax = plt.subplots(2,1)\n",
        "\n",
        "ax[0].plot(history.history['acc'], color='b', label=\"Training accuracy\")\n",
        "ax[0].plot(history.history['val_acc'], color='r',label=\"Testing accuracy\")\n",
        "ax[0].set_title(\"Accruacy\")\n",
        "legend = ax[0].legend(loc='best', shadow=True)\n",
        "              \n",
        "ax[1].plot(history.history['loss'], color='b', label=\"Training loss\")\n",
        "ax[1].plot(history.history['val_loss'], color='r', label=\"Testing loss\",axes =ax[1])\n",
        "ax[1].set_title(\"Loss\")\n",
        "legend = ax[1].legend(loc='best', shadow=True)\n",
        "plt.ylim(0,1)"
      ],
      "execution_count": 0,
      "outputs": [
        {
          "output_type": "stream",
          "text": [
            "Running final scoring on test data\n",
            "4200/4200 [==============================] - 1s 292us/step\n",
            "The accuracy for this model is  0.98\n"
          ],
          "name": "stdout"
        },
        {
          "output_type": "execute_result",
          "data": {
            "text/plain": [
              "(0, 1)"
            ]
          },
          "metadata": {
            "tags": []
          },
          "execution_count": 7
        },
        {
          "output_type": "display_data",
          "data": {
            "image/png": "[encoded data removed]",
            "text/plain": [
              "<Figure size 576x396 with 2 Axes>"
            ]
          },
          "metadata": {
            "tags": []
          }
        }
      ]
    },
    {
      "metadata": {
        "id": "xAHcXCEcfzIL",
        "colab_type": "text"
      },
      "cell_type": "markdown",
      "source": [
        "## Create the Submission for Kaggle\n",
        "\n",
        "The following code generates a file named CIS3115_Submission.csv which you need to download to your local PC and then upload to [Kaggle's Digit Recognition competition](https://www.kaggle.com/c/digit-recognizer/submit).\n",
        "\n"
      ]
    },
    {
      "metadata": {
        "id": "YqcMfCNsjpOJ",
        "colab_type": "code",
        "colab": {}
      },
      "cell_type": "code",
      "source": [
        "predictions = NN.predict_classes(X_submit_kaggle, verbose=0)\n",
        "\n",
        "submissions=pd.DataFrame({\"ImageId\": list(range(1,len(predictions)+1)), \"Label\": predictions})\n",
        "\n",
        "submissions.to_csv(\"CIS3115_Submission.csv\", index=False, header=True)"
      ],
      "execution_count": 0,
      "outputs": []
    },
    {
      "metadata": {
        "id": "d5UGK9BiWDW5",
        "colab_type": "text"
      },
      "cell_type": "markdown",
      "source": [
        "## Kaggle Submission\n",
        "\n",
        "Run the code above after training the network above. It will go through the 28,000 submission images and generate an prediction for each. These are saved in a file named \"CIS3115_Submission.csv\"\n",
        "\n",
        "**Colab Users: ** The submission file is stored in the Colab files tied to this colab notebook in the Google cloud. \n",
        "1. Open the left-side menu by clicking on the > icon near the top-left\n",
        "2. Select the file tab\n",
        "3. Hit the Refresh button and the file should be displayed in the list\n",
        "4. Right-click on the file and choose \"Download\" and save it to a folder on your PC.\n",
        "\n",
        "**Juptyter Notebook Users: ** The submission file will be stored in the same folder as your Jupyter notebook file.\n",
        "\n",
        "Once you have the file, return to  the [Kaggle Digit Recognition challenge](https://www.kaggle.com/c/digit-recognizer) and select the Submit button. Follow the steps to upload your submission and see how it scores.\n",
        "\n",
        "Record your initial submission score here: _ _ _ _ _ _ _ _ _ _ _ _\n"
      ]
    },
    {
      "metadata": {
        "colab_type": "text",
        "id": "cUg7_6I_ui3-"
      },
      "cell_type": "markdown",
      "source": [
        "## Task 3: Report Best Score\n",
        "\n",
        "Try finding a good mix of the following:\n",
        "\n",
        "1. Number and size of convolution layers\n",
        "\n",
        "1. Number and rate of dropout layers\n",
        "\n",
        "1. Learning Rate reduction\n",
        "\n",
        "Submit your best network to the [Kaggle Digit Recognition challenge](https://www.kaggle.com/c/digit-recognizer) and compare it to your original score\n",
        "\n",
        "Base Kaggle scores here:  98.8%\n",
        "\n",
        "Best Kaggle scores here:  _ _ _ _ _ _ _ _ _ _\n",
        "\n"
      ]
    },
    {
      "metadata": {
        "id": "RUzZntKj1QFz",
        "colab_type": "text"
      },
      "cell_type": "markdown",
      "source": [
        "# Wrapping Up\n",
        "\n",
        "Remember to **share this sheet with your instructo**r and submit a link to it in Blackboard."
      ]
    },
    {
      "metadata": {
        "id": "hNmZlPcKWv12",
        "colab_type": "code",
        "colab": {}
      },
      "cell_type": "code",
      "source": [
        ""
      ],
      "execution_count": 0,
      "outputs": []
    }
  ]
}