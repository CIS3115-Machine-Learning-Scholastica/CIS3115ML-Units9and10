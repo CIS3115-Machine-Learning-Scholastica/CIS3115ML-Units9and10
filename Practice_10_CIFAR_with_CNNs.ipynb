{
 "cells": [
  {
   "cell_type": "markdown",
   "metadata": {
    "colab_type": "text",
    "id": "UcP0RHTjWP1q"
   },
   "source": [
    "# Practice 10: Kaggle's CIFAR10 with CNNs\n",
    "\n",
    "Use this notebook as the starting point for the Practice activities.\n",
    "\n",
    "Student Name:    **[  Put your Name Here ]**\n",
    "\n",
    "\n",
    " [Video Walkthough of Practice9.]\n",
    "\n"
   ]
  },
  {
   "cell_type": "markdown",
   "metadata": {
    "colab_type": "text",
    "id": "KmZ4LSJ7XLR9"
   },
   "source": [
    "# Section 0\n",
    "\n",
    "=== *You must run this section to set up things for any of the sections below * ===\n",
    "### Setting up Python tools\n",
    "\n",
    "\n",
    "\n",
    "We'll use three libraries for this tutorial: \n",
    "- [pandas](http://pandas.pydata.org/) : dataframes for spreadsheet-like data analysis, reading CSV files, time series\n",
    "- [numpy](http://www.numpy.org/) : for multidimensional data and linear algebra tools\n",
    "- [matplotlib](http://matplotlib.org/) : Simple plotting and graphing\n",
    "- [seaborn](http://stanford.edu/~mwaskom/software/seaborn/) : more advanced graphing\n",
    "-  [scikit-learn](https://scikit-learn.org/stable/) : provides many machine learning algorithms and tools to training and test.\n",
    "\n",
    "\n"
   ]
  },
  {
   "cell_type": "code",
   "execution_count": 1,
   "metadata": {
    "colab": {
     "base_uri": "https://localhost:8080/",
     "height": 52
    },
    "colab_type": "code",
    "id": "RHAUKyWlWQ9L",
    "outputId": "5c09e55f-bded-4745-807c-d551d677b854"
   },
   "outputs": [
    {
     "name": "stdout",
     "output_type": "stream",
     "text": [
      "====== This should generate a FutureWaring on Conversion ===== ignore this warning\n"
     ]
    },
    {
     "name": "stderr",
     "output_type": "stream",
     "text": [
      "Using TensorFlow backend.\n"
     ]
    }
   ],
   "source": [
    "# First, we'll import pandas and numpy, two data processing libraries\n",
    "import pandas as pd\n",
    "import numpy as np\n",
    "\n",
    "# We'll also import seaborn and matplot, twp Python graphing libraries\n",
    "import seaborn as sns\n",
    "import matplotlib.pyplot as plt\n",
    "# Import the needed sklearn libraries\n",
    "from sklearn.preprocessing import MinMaxScaler, StandardScaler\n",
    "from sklearn import datasets\n",
    "from sklearn.model_selection import train_test_split\n",
    "from sklearn.neighbors import KNeighborsClassifier\n",
    "from sklearn.svm import SVC\n",
    "from sklearn.decomposition import PCA\n",
    "from sklearn.preprocessing import LabelEncoder\n",
    "\n",
    "# The Keras library provides support for neural networks and deep learning\n",
    "print (\"====== This should generate a FutureWaring on Conversion ===== ignore this warning\")\n",
    "import keras\n",
    "from keras.preprocessing.image import ImageDataGenerator\n",
    "from keras.models import Sequential\n",
    "from keras.layers import Dense, Dropout, Activation, Lambda, Flatten, LSTM\n",
    "from keras.layers import Conv2D, MaxPooling2D\n",
    "from keras.optimizers import Adam, RMSprop\n",
    "from keras.utils import np_utils\n",
    "\n",
    "# We will turn off some warns in this notebook to make it easier to read for new students\n",
    "import warnings\n",
    "warnings.filterwarnings('ignore')"
   ]
  },
  {
   "cell_type": "markdown",
   "metadata": {
    "colab_type": "text",
    "id": "6qhZo0Q9IXUc"
   },
   "source": [
    "# Section 2: CNN for Kaggle Digit Recognition Challenge\n",
    "\n",
    "We will apply Convolutional Neural Networks (CNNs) to the Kaggle Digit Challenge.\n",
    "\n",
    "First, we will read in the digit images from Kaggle."
   ]
  },
  {
   "cell_type": "markdown",
   "metadata": {
    "colab_type": "text",
    "id": "qaV6VT-66iAf"
   },
   "source": [
    "## Task 2: CNN Layers\n",
    "\n",
    "For an overview of CNNs, see [MIT 6.S191: Convolutional Neural Networks](https://youtu.be/H-HVZJ7kGI0?t=1132). While the entire video is good, the key description of CNN layers start at 19:00.\n",
    "\n",
    "We will use the following Keras pre-built layers to build our CNN.\n",
    "\n",
    "- **Conv2D**(16, (3, 3), activation='relu')\n",
    " - 16 filters, each one 3x3 pixels with default stride of 1\n",
    "- **MaxPooling2D**(pool_size=(2, 2))\n",
    " - 2x2 max pooling filter with default stride of 2\n",
    "- **Dropout**(0.25)\n",
    " - Randomly ignore 25% of the weights\n",
    "- **Flatten**()\n",
    " - Convert a 2D layer into a 1D layer\n",
    "- **Dense**(32, activation='relu')\n",
    " - Standard fully connected layer we have used before\n",
    "\n",
    "One possibly configuration would be:\n",
    "\n",
    "```\n",
    "NN = Sequential()\n",
    "NN.add(Conv2D(8, kernel_size=(3, 3), activation='relu', input_shape=(28,28,1)))\n",
    "NN.add(Conv2D(8, (3, 3), activation='relu'))\n",
    "NN.add(MaxPooling2D(pool_size=(2, 2)))\n",
    "NN.add(Conv2D(16, (3, 3), activation='relu'))\n",
    "NN.add(Flatten())\n",
    "NN.add(Dense(32, activation='relu'))\n",
    "NN.add(Dense(output_Size, activation='softmax'))\n",
    "```\n",
    "\n",
    "Describe what changes to the CNN layers you will make. Options include:\n",
    "\n",
    "1.   Adding more or less filters in in Conv2D layer. The first parameter is the number of filters at that level.\n",
    "2.   Add more Conv2D layers. It is common to stack two to four layers together.\n",
    "3.   Consider trying larger or smaller filters. While 3x3 pixel filters are common, filters range from 1x1 to 7x7.\n",
    "4.   Try more MaxPooling2D layers\n",
    "5.   Add some DropOut layers to combat over fitting\n",
    "\n",
    "\n",
    "*Note: You should not change the input or output layers, they are fixed by our problem definition*\n"
   ]
  },
  {
   "cell_type": "code",
   "execution_count": 2,
   "metadata": {
    "colab": {
     "base_uri": "https://localhost:8080/",
     "height": 481
    },
    "colab_type": "code",
    "id": "M1H9GVNvvSdM",
    "outputId": "b3cee5e4-c07a-4f7a-e7ba-a4067b790927"
   },
   "outputs": [
    {
     "name": "stdout",
     "output_type": "stream",
     "text": [
      "Neural Network Model created\n",
      "_________________________________________________________________\n",
      "Layer (type)                 Output Shape              Param #   \n",
      "=================================================================\n",
      "conv2d_1 (Conv2D)            (None, 30, 30, 8)         224       \n",
      "_________________________________________________________________\n",
      "conv2d_2 (Conv2D)            (None, 28, 28, 8)         584       \n",
      "_________________________________________________________________\n",
      "max_pooling2d_1 (MaxPooling2 (None, 14, 14, 8)         0         \n",
      "_________________________________________________________________\n",
      "conv2d_3 (Conv2D)            (None, 12, 12, 16)        1168      \n",
      "_________________________________________________________________\n",
      "flatten_1 (Flatten)          (None, 2304)              0         \n",
      "_________________________________________________________________\n",
      "dense_1 (Dense)              (None, 32)                73760     \n",
      "_________________________________________________________________\n",
      "dense_2 (Dense)              (None, 10)                330       \n",
      "=================================================================\n",
      "Total params: 76,066\n",
      "Trainable params: 76,066\n",
      "Non-trainable params: 0\n",
      "_________________________________________________________________\n"
     ]
    }
   ],
   "source": [
    "# Set up the Neural Network\n",
    "input_Size = 32 * 32 * 3    # images are 28 x 28 pixels or 784 pixels\n",
    "output_Size = 10\n",
    "\n",
    "NN = Sequential()\n",
    "NN.add(Conv2D(8, kernel_size=(3, 3), activation='relu', input_shape=(32,32,3)))\n",
    "NN.add(Conv2D(8, (3, 3), activation='relu'))\n",
    "NN.add(MaxPooling2D(pool_size=(2, 2)))\n",
    "#NN.add(Dropout(0.25))\n",
    "NN.add(Conv2D(16, (3, 3), activation='relu'))\n",
    "NN.add(Flatten())\n",
    "NN.add(Dense(32, activation='relu'))\n",
    "NN.add(Dense(output_Size, activation='softmax'))\n",
    "print (\"Neural Network Model created\")\n",
    "NN.summary()\n",
    "\n",
    "# Compile neural network model\n",
    "NN.compile(optimizer='adam', loss='categorical_crossentropy', metrics=['accuracy'])"
   ]
  },
  {
   "cell_type": "code",
   "execution_count": 3,
   "metadata": {
    "colab": {},
    "colab_type": "code",
    "id": "U-k7Y9H-2wUr"
   },
   "outputs": [],
   "source": [
    "from keras.callbacks import ReduceLROnPlateau, EarlyStopping, ModelCheckpoint\n",
    "\n",
    "learning_rate_reduction = ReduceLROnPlateau(monitor='loss', \n",
    "                                            patience=5, \n",
    "                                            verbose=2, \n",
    "                                            factor=0.5,                                            \n",
    "                                            min_lr=0.000001)\n",
    "\n",
    "early_stops = EarlyStopping(monitor='loss', \n",
    "                            min_delta=0, \n",
    "                            patience=20, \n",
    "                            verbose=2, \n",
    "                            mode='auto')\n",
    "\n",
    "checkpointer = ModelCheckpoint(filepath = 'cis3115_MNIST.{epoch:02d}-{accuracy:.6f}.hdf5',\n",
    "                               verbose=2,\n",
    "                               save_best_only=True, \n",
    "                               save_weights_only = True)\n"
   ]
  },
  {
   "cell_type": "code",
   "execution_count": 4,
   "metadata": {
    "colab": {
     "base_uri": "https://localhost:8080/",
     "height": 52
    },
    "colab_type": "code",
    "id": "Z_gd5XuZvScg",
    "outputId": "7a01959f-bfad-46e0-d9fb-dad0e6ca35ce"
   },
   "outputs": [
    {
     "name": "stdout",
     "output_type": "stream",
     "text": [
      "Reading training images from:  ../CIFAR10/train_images_by_cat\n",
      "Reading validation images from:  ../CIFAR10/validate_images_by_cat\n"
     ]
    }
   ],
   "source": [
    "# Read data from the actual Kaggle download files stored in a raw file in GitHub\n",
    "github_folder = 'https://raw.githubusercontent.com/CIS3115-Machine-Learning-Scholastica/CIS3115ML-Units7and8/master/petfinder-adoption/'\n",
    "local_folder = '../CIFAR10/'\n",
    "\n",
    "data_folder = local_folder\n",
    "# Uncomment the next line to switch from using the github files to the kaggle files for a submission\n",
    "#data_folder = kaggle_folder\n",
    "\n",
    "train_folder =  data_folder + 'train_images_by_cat'\n",
    "validate_folder = data_folder + 'validate_images_by_cat'\n",
    "sample_submission = pd.read_csv(data_folder + 'sampleSubmission.csv')\n",
    "\n",
    "print (\"Reading training images from: \" ,train_folder)\n",
    "print (\"Reading validation images from: \" ,validate_folder)\n"
   ]
  },
  {
   "cell_type": "code",
   "execution_count": 5,
   "metadata": {},
   "outputs": [],
   "source": [
    "# this is the augmentation configuration we will use for training\n",
    "train_datagen = ImageDataGenerator(\n",
    "        rotation_range=10,\n",
    "        width_shift_range=0.1,\n",
    "        height_shift_range=0.1,\n",
    "        rescale=1./255,\n",
    "        shear_range=0.1,\n",
    "        zoom_range=0.1,\n",
    "        horizontal_flip=True)\n",
    "\n",
    "# this is the augmentation configuration we will use for testing:\n",
    "# only rescaling\n",
    "test_datagen = ImageDataGenerator(rescale=1./255)"
   ]
  },
  {
   "cell_type": "code",
   "execution_count": 6,
   "metadata": {},
   "outputs": [
    {
     "name": "stdout",
     "output_type": "stream",
     "text": [
      "Found 45481 images belonging to 10 classes.\n",
      "Found 5612 images belonging to 10 classes.\n"
     ]
    }
   ],
   "source": [
    "#batch_size = 8\n",
    "batch_size = 32\n",
    "\n",
    "# this is a generator that will read pictures found in\n",
    "# subfolers of 'data/train', and indefinitely generate\n",
    "# batches of augmented image data\n",
    "train_generator = train_datagen.flow_from_directory(\n",
    "        train_folder,  # this is the target directory\n",
    "        target_size=(32, 32),  # all images will be resized to 150x150\n",
    "        batch_size=batch_size,\n",
    "        class_mode='categorical')  # since we use binary_crossentropy loss, we need binary labels\n",
    "\n",
    "# this is a similar generator, for validation data\n",
    "validation_generator = test_datagen.flow_from_directory(\n",
    "        validate_folder,\n",
    "        target_size=(32, 32),\n",
    "        batch_size=batch_size,\n",
    "        class_mode='categorical')"
   ]
  },
  {
   "cell_type": "markdown",
   "metadata": {
    "colab_type": "text",
    "id": "LT2ZSVeXvSdo"
   },
   "source": [
    "## Train the Neural Network\n",
    "\n",
    "There are 45,481 training images and 5,612 validation testing images. \n",
    "- train_generator: The image generator above to use. Can rotate or shift images if desired\n",
    "- steps_per_epoch=1000: Number of images to process per epoch, will random choose from 45,000 images\n",
    "- epochs=100: Number of epochs. Should be large enough to train on every image mulitple times\n",
    "- learning_rate_reduction: Reduce the learning rate if loss does not keep dropping\n",
    "- early_stops: Stop if loss does not keep dropping\n",
    "- validation_generator: The image generator to use for validation, not rotations or shifting\n",
    "- validation_steps: Number of random images to use during validation, we have 5,600 to choose from \n",
    " \n",
    "### Note: This is a large data set and training may take an hour or so... \n",
    "\n",
    "This is why we are only using 10 epochs initially"
   ]
  },
  {
   "cell_type": "code",
   "execution_count": 9,
   "metadata": {
    "colab": {
     "base_uri": "https://localhost:8080/",
     "height": 499
    },
    "colab_type": "code",
    "id": "pMeiCJoZvSd6",
    "outputId": "93a1c996-d7f1-4464-b208-8dc1b2b6d0fe"
   },
   "outputs": [
    {
     "name": "stdout",
     "output_type": "stream",
     "text": [
      "Epoch 1/10\n",
      "100/100 [==============================] - 16s 162ms/step - loss: 1.3327 - acc: 0.5203 - val_loss: 1.2681 - val_acc: 0.5442\n",
      "Epoch 2/10\n",
      "100/100 [==============================] - 16s 156ms/step - loss: 1.3439 - acc: 0.5244 - val_loss: 1.2472 - val_acc: 0.5596\n",
      "Epoch 3/10\n",
      "100/100 [==============================] - 15s 154ms/step - loss: 1.3396 - acc: 0.5203 - val_loss: 1.2172 - val_acc: 0.5690\n",
      "Epoch 4/10\n",
      "100/100 [==============================] - 15s 155ms/step - loss: 1.2935 - acc: 0.5475 - val_loss: 1.2072 - val_acc: 0.5674\n",
      "Epoch 5/10\n",
      "100/100 [==============================] - 15s 155ms/step - loss: 1.3064 - acc: 0.5419 - val_loss: 1.2241 - val_acc: 0.5665\n",
      "Epoch 6/10\n",
      "100/100 [==============================] - 15s 150ms/step - loss: 1.3303 - acc: 0.5306 - val_loss: 1.3085 - val_acc: 0.5404\n",
      "Epoch 7/10\n",
      "100/100 [==============================] - 15s 152ms/step - loss: 1.2696 - acc: 0.5571 - val_loss: 1.2254 - val_acc: 0.5712\n",
      "Epoch 8/10\n",
      "100/100 [==============================] - 15s 155ms/step - loss: 1.2903 - acc: 0.5400 - val_loss: 1.2634 - val_acc: 0.5487\n",
      "Epoch 9/10\n",
      "100/100 [==============================] - 15s 154ms/step - loss: 1.3253 - acc: 0.5288 - val_loss: 1.3247 - val_acc: 0.5339\n",
      "Epoch 10/10\n",
      "100/100 [==============================] - 15s 150ms/step - loss: 1.2707 - acc: 0.5431 - val_loss: 1.2278 - val_acc: 0.5673\n"
     ]
    }
   ],
   "source": [
    "\n",
    "\n",
    "# Train the model with the images in the folders\n",
    "history = NN.fit_generator(\n",
    "        train_generator,\n",
    "        steps_per_epoch=100,                    # Number of images to process per epoch \n",
    "        epochs=10,                              # Number of epochs\n",
    "        callbacks=[learning_rate_reduction, early_stops],\n",
    "        validation_data=validation_generator,\n",
    "        validation_steps=200 )                  # batch_size\n",
    "#NN.save_weights('cifar_weights.h5')  # always save your weights after training or during training\n"
   ]
  },
  {
   "cell_type": "code",
   "execution_count": null,
   "metadata": {
    "colab": {},
    "colab_type": "code",
    "id": "J_2GLi6avSeF"
   },
   "outputs": [],
   "source": []
  },
  {
   "cell_type": "markdown",
   "metadata": {
    "colab_type": "text",
    "id": "KJiV__LbvSeO"
   },
   "source": [
    "## Plot the Training History\n",
    "\n",
    "We store the performance during training is a variable named 'history'. The x-axis is the training time or number of epochs.\n",
    "\n",
    "- Accuracy: Accuracy of the predictions, hopefully this is increasing to near 1.0\n",
    "- Loss: How close the output is to the desired output, this should decrease to near 0.0"
   ]
  },
  {
   "cell_type": "code",
   "execution_count": null,
   "metadata": {
    "colab": {
     "base_uri": "https://localhost:8080/",
     "height": 433
    },
    "colab_type": "code",
    "id": "Y965DSk5vSeJ",
    "outputId": "8b3904f7-58cf-4a29-8ce0-c12ecb99f408"
   },
   "outputs": [],
   "source": [
    "# 10. Evaluate model on test data\n",
    "print (\"Running final scoring on test data\")\n",
    "score = NN.evaluate(X_test, y_test, verbose=1)\n",
    "print (\"The accuracy for this model is \", format(score[1], \",.2f\"))\n",
    "\n",
    "# Plot the loss and accuracy curves for training and validation \n",
    "fig, ax = plt.subplots(2,1)\n",
    "\n",
    "ax[0].plot(history.history['acc'], color='b', label=\"Training accuracy\")\n",
    "ax[0].plot(history.history['val_acc'], color='r',label=\"Testing accuracy\")\n",
    "ax[0].set_title(\"Accruacy\")\n",
    "legend = ax[0].legend(loc='best', shadow=True)\n",
    "              \n",
    "ax[1].plot(history.history['loss'], color='b', label=\"Training loss\")\n",
    "ax[1].plot(history.history['val_loss'], color='r', label=\"Testing loss\",axes =ax[1])\n",
    "ax[1].set_title(\"Loss\")\n",
    "legend = ax[1].legend(loc='best', shadow=True)\n",
    "plt.ylim(0,1)"
   ]
  },
  {
   "cell_type": "markdown",
   "metadata": {
    "colab_type": "text",
    "id": "xAHcXCEcfzIL"
   },
   "source": [
    "## Create the Submission for Kaggle\n",
    "\n",
    "The following code generates a file named CIS3115_Submission.csv which you need to download to your local PC and then upload to [Kaggle's Digit Recognition competition](https://www.kaggle.com/c/digit-recognizer/submit).\n",
    "\n"
   ]
  },
  {
   "cell_type": "code",
   "execution_count": null,
   "metadata": {
    "colab": {},
    "colab_type": "code",
    "id": "YqcMfCNsjpOJ"
   },
   "outputs": [],
   "source": [
    "predictions = NN.predict_classes(X_submit_kaggle, verbose=0)\n",
    "\n",
    "submissions=pd.DataFrame({\"ImageId\": list(range(1,len(predictions)+1)), \"Label\": predictions})\n",
    "\n",
    "submissions.to_csv(\"CIS3115_Submission.csv\", index=False, header=True)"
   ]
  },
  {
   "cell_type": "code",
   "execution_count": null,
   "metadata": {},
   "outputs": [],
   "source": [
    "# Train the model with the images in the folders\n",
    "history = NN.fit_generator(\n",
    "        train_generator,\n",
    "        steps_per_epoch=100,                    # Number of images to process per epoch \n",
    "        epochs=10,                              # Number of epochs\n",
    "        callbacks=[learning_rate_reduction, early_stops],\n",
    "        validation_data=validation_generator,\n",
    "        validation_steps=200 )                  # batch_size"
   ]
  },
  {
   "cell_type": "code",
   "execution_count": 13,
   "metadata": {},
   "outputs": [
    {
     "data": {
      "text/plain": [
       "array([[7.95617979e-03, 3.13333720e-02, 2.60803569e-03, ...,\n",
       "        3.03216657e-04, 9.36841607e-01, 1.06755784e-02],\n",
       "       [2.39936635e-01, 1.82567105e-01, 3.30113396e-02, ...,\n",
       "        2.43939157e-03, 4.62357312e-01, 5.74639067e-02],\n",
       "       [6.08617850e-02, 1.09003067e-01, 4.08071727e-02, ...,\n",
       "        1.03420809e-01, 2.70620398e-02, 2.99138188e-01],\n",
       "       ...,\n",
       "       [2.83311233e-02, 1.13676218e-02, 1.03299476e-01, ...,\n",
       "        2.05920748e-02, 1.18215047e-02, 4.20859829e-03],\n",
       "       [7.43463516e-01, 2.04112800e-03, 4.53292532e-03, ...,\n",
       "        8.99753795e-05, 2.48361915e-01, 4.58821713e-04],\n",
       "       [3.54448202e-05, 3.79228732e-05, 3.93608725e-03, ...,\n",
       "        1.02250554e-01, 2.51883495e-04, 1.07238593e-03]], dtype=float32)"
      ]
     },
     "execution_count": 13,
     "metadata": {},
     "output_type": "execute_result"
    }
   ],
   "source": [
    "all_pred = NN.predict_generator(validation_generator, steps=100)\n",
    "all_pred"
   ]
  },
  {
   "cell_type": "code",
   "execution_count": 18,
   "metadata": {},
   "outputs": [
    {
     "name": "stdout",
     "output_type": "stream",
     "text": [
      "(3200, 1)\n",
      "[[8]\n",
      " [8]\n",
      " [9]\n",
      " ...\n",
      " [3]\n",
      " [0]\n",
      " [3]]\n"
     ]
    }
   ],
   "source": [
    "# From the probabilities, grab the top 5 indexes for each image\n",
    "top_cat = np.argsort(-all_pred)\n",
    "top5_cat = top_cat[:,:1]\n",
    "print (top5_cat.shape)\n",
    "print (top5_cat)"
   ]
  },
  {
   "cell_type": "markdown",
   "metadata": {
    "colab_type": "text",
    "id": "d5UGK9BiWDW5"
   },
   "source": [
    "## Kaggle Submission\n",
    "\n",
    "Run the code above after training the network above. It will go through the 28,000 submission images and generate an prediction for each. These are saved in a file named \"CIS3115_Submission.csv\"\n",
    "\n",
    "**Colab Users: ** The submission file is stored in the Colab files tied to this colab notebook in the Google cloud. \n",
    "1. Open the left-side menu by clicking on the > icon near the top-left\n",
    "2. Select the file tab\n",
    "3. Hit the Refresh button and the file should be displayed in the list\n",
    "4. Right-click on the file and choose \"Download\" and save it to a folder on your PC.\n",
    "\n",
    "**Juptyter Notebook Users: ** The submission file will be stored in the same folder as your Jupyter notebook file.\n",
    "\n",
    "Once you have the file, return to  the [Kaggle Digit Recognition challenge](https://www.kaggle.com/c/digit-recognizer) and select the Submit button. Follow the steps to upload your submission and see how it scores.\n",
    "\n",
    "Record your initial submission score here: _ _ _ _ _ _ _ _ _ _ _ _\n"
   ]
  },
  {
   "cell_type": "markdown",
   "metadata": {
    "colab_type": "text",
    "id": "cUg7_6I_ui3-"
   },
   "source": [
    "## Task 3: Report Best Score\n",
    "\n",
    "Try finding a good mix of the following:\n",
    "\n",
    "1. Number and size of convolution layers\n",
    "\n",
    "1. Number and rate of dropout layers\n",
    "\n",
    "1. Learning Rate reduction\n",
    "\n",
    "Submit your best network to the [Kaggle Digit Recognition challenge](https://www.kaggle.com/c/digit-recognizer) and compare it to your original score\n",
    "\n",
    "Base Kaggle scores here:  98.8%\n",
    "\n",
    "Best Kaggle scores here:  _ _ _ _ _ _ _ _ _ _\n",
    "\n"
   ]
  },
  {
   "cell_type": "markdown",
   "metadata": {
    "colab_type": "text",
    "id": "RUzZntKj1QFz"
   },
   "source": [
    "# Wrapping Up\n",
    "\n",
    "Remember to **share this sheet with your instructo**r and submit a link to it in Blackboard."
   ]
  },
  {
   "cell_type": "code",
   "execution_count": null,
   "metadata": {
    "colab": {},
    "colab_type": "code",
    "id": "hNmZlPcKWv12"
   },
   "outputs": [],
   "source": []
  }
 ],
 "metadata": {
  "colab": {
   "collapsed_sections": [],
   "name": "Practice 9: Convolutional Neural Networks.ipynb",
   "provenance": [],
   "version": "0.3.2"
  },
  "kernelspec": {
   "display_name": "Python 3",
   "language": "python",
   "name": "python3"
  },
  "language_info": {
   "codemirror_mode": {
    "name": "ipython",
    "version": 3
   },
   "file_extension": ".py",
   "mimetype": "text/x-python",
   "name": "python",
   "nbconvert_exporter": "python",
   "pygments_lexer": "ipython3",
   "version": "3.6.8"
  }
 },
 "nbformat": 4,
 "nbformat_minor": 1
}
